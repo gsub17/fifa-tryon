{
 "cells": [
  {
   "cell_type": "markdown",
   "id": "08843315-3609-4c67-b1f3-29922d30ed85",
   "metadata": {},
   "source": [
    "## Visualize outputs\n"
   ]
  },
  {
   "cell_type": "code",
   "execution_count": null,
   "id": "5a2f59d4-2cfb-4a40-9562-3d54f5c87d66",
   "metadata": {},
   "outputs": [],
   "source": [
    "%load_ext autoreload\n",
    "%autoreload 2"
   ]
  },
  {
   "cell_type": "code",
   "execution_count": null,
   "id": "a6c27a4a-2cd5-4e55-ac51-848259cb2d6b",
   "metadata": {},
   "outputs": [],
   "source": [
    "import os,sys,inspect\n",
    "sys.path.insert(0,\"..\")\n",
    "\n",
    "import matplotlib.pyplot as plt\n",
    "from matplotlib import rc\n",
    "\n",
    "macos = False\n",
    "if macos == True:\n",
    "    rc('font',**{'family':'sans-serif','sans-serif':['Computer Modern Roman']})\n",
    "    rc('text', usetex=True)\n",
    "\n",
    "# Font Size\n",
    "import matplotlib\n",
    "font = {'family' : 'DejaVu Sans',\n",
    "        'weight' : 'bold',\n",
    "        'size'   : 30}\n",
    "\n",
    "import cv2\n",
    "import numpy as np\n",
    "import string\n",
    "import random"
   ]
  },
  {
   "cell_type": "code",
   "execution_count": null,
   "id": "0bdce517-31de-477f-8708-ce4f6e61876d",
   "metadata": {},
   "outputs": [],
   "source": [
    "def visualize(idx, idx_flag=True, **images):\n",
    "    \"\"\"Plot images in one row.\"\"\" \n",
    "    n = len(images)\n",
    "    fig = plt.figure(figsize=(60, 40))\n",
    "    for i, (name, image) in enumerate(images.items()):\n",
    "        plt.subplot(1, n, i + 1)\n",
    "        plt.xticks([])\n",
    "        plt.yticks([])\n",
    "        #if idx==0:\n",
    "        plt.title(' '.join(name.split('_')).lower(), fontsize=60)\n",
    "        if idx_flag:\n",
    "            if i ==0:\n",
    "                w,h = (1,25)\n",
    "                fs = 1.0\n",
    "                color = (0,0,0)\n",
    "                #color = (255,255,255)\n",
    "                font = cv2.FONT_HERSHEY_SIMPLEX #FONT_HERSHEY_DUPLEX  #press tab for different operations\n",
    "                cv2.putText(image, str(idx), (w,h), font, fs, color, 1, cv2.LINE_AA)\n",
    "        plt.imshow(image, cmap='gray')\n",
    "        plt.axis(\"off\")\n",
    "        #plt.tight_layout()\n",
    "    plt.savefig(\"../outputs/vis/decavton_pretrain_tryons/{}.png\".format(idx), facecolor=\"white\", bbox_inches = 'tight')\n",
    "    plt.show()\n",
    "    #plt.close()\n",
    "    \n",
    "    \n",
    "def make_dataset(dir):\n",
    "    images = []\n",
    "    assert os.path.isdir(dir), '%s is not a valid directory' % dir\n",
    "\n",
    "    f = dir.split('/')[-1].split('_')[-1]\n",
    "    #print (dir, f)\n",
    "    dirs= os.listdir(dir)\n",
    "    for img in dirs:\n",
    "\n",
    "        path = os.path.join(dir, img)\n",
    "        #print(path)\n",
    "        images.append(path)\n",
    "    return images\n",
    "\n",
    "def read_image(path):\n",
    "    image = cv2.imread(path, -1)\n",
    "    image = cv2.cvtColor(image, cv2.COLOR_BGR2RGB)\n",
    "    return image\n",
    "\n",
    "def read_image_(path):\n",
    "    image = cv2.imread(path, -1)\n",
    "    image = cv2.cvtColor(image, cv2.COLOR_BGR2RGB)\n",
    "    image = cv2.resize(image, (192, 256))\n",
    "    return image"
   ]
  },
  {
   "cell_type": "code",
   "execution_count": null,
   "id": "b59226d7-9286-4b5e-952c-fa9d8b3ea656",
   "metadata": {},
   "outputs": [],
   "source": []
  },
  {
   "cell_type": "code",
   "execution_count": null,
   "id": "9ec3f342-be68-4dcf-9d41-06a16b424b0f",
   "metadata": {},
   "outputs": [],
   "source": [
    "!rm ../outputs/robustness_random/acgpn_gen/.DS_Store\n",
    "!rm ../outputs/robustness_random/fifa_gen/.DS_Store"
   ]
  },
  {
   "cell_type": "code",
   "execution_count": null,
   "id": "953451ff-eb1e-4cf2-91c4-4246c85f1d14",
   "metadata": {},
   "outputs": [],
   "source": [
    "# Path to model outputs\n",
    "algo1 = \"eccv_vton\"\n",
    "algo2 = \"decavton_fifa_wo_fab\"\n",
    "algo3 = \"decavton_fifa\"\n",
    "algo4 = \"decavton_fifa_wo_fab_pretrain\"\n",
    "algo5 = \"decavton_fifa_pretrain\"\n",
    "\n",
    "mode = \"all\" # all, all_same\n",
    "algo1_tryon_path = \"../outputs/{}/{}/\".format(algo1, mode)\n",
    "algo2_tryon_path = \"../outputs/{}/{}/\".format(algo2, mode)\n",
    "algo3_tryon_path = \"../outputs/{}/{}/\".format(algo3, mode)\n",
    "algo4_tryon_path = \"../outputs/{}/{}/\".format(algo4, mode)\n",
    "algo5_tryon_path = \"../outputs/{}/{}/\".format(algo5, mode)\n",
    "\n",
    "# File paths to tryon images\n",
    "algo1_tryon_files = sorted(make_dataset(algo1_tryon_path))\n",
    "algo2_tryon_files = sorted(make_dataset(algo2_tryon_path))\n",
    "algo3_tryon_files = sorted(make_dataset(algo3_tryon_path))\n",
    "algo4_tryon_files = sorted(make_dataset(algo4_tryon_path))\n",
    "algo5_tryon_files = sorted(make_dataset(algo5_tryon_path))\n",
    "\n",
    "\n",
    "# Path to reference person and cloth images\n",
    "data_path = '../../datasets/decathlon_data/decavton_test/'\n",
    "\n",
    "persons = []\n",
    "clothes = []\n",
    "\n",
    "# for all\n",
    "with open(os.path.join('../../datasets/decathlon_data/decavton_test/test_pairs_random.txt'), 'r') as f:\n",
    "    for line in f.readlines():\n",
    "        h_name, c_name = line.strip().split()\n",
    "        persons.append(h_name)\n",
    "        clothes.append(c_name)\n",
    "\n",
    "\n",
    "ref_person_paths = [os.path.join(data_path, \"test_img\", x) for x in persons]\n",
    "target_clothes_paths = [os.path.join(data_path, \"test_color\", x) for x in clothes]"
   ]
  },
  {
   "cell_type": "code",
   "execution_count": null,
   "id": "c90c731f-2261-4478-9fac-396f669a8b01",
   "metadata": {},
   "outputs": [],
   "source": [
    "!rm ../outputs/robustness_random/acgpn/.DS_Store\n",
    "!rm ../outputs/robustness_random/fifa/.DS_Store"
   ]
  },
  {
   "cell_type": "markdown",
   "id": "bc6b1cad-7f43-43e2-bca5-9447408e97db",
   "metadata": {},
   "source": [
    "### Show all images"
   ]
  },
  {
   "cell_type": "code",
   "execution_count": null,
   "id": "1c6ae95b-ff9f-4e03-beac-e50c8c0d976b",
   "metadata": {},
   "outputs": [],
   "source": [
    "idxs = [3,4,6,9,66,75,77,92,95,116,141,216,223,225,257,268,321,401,405,429,\n",
    "       483,648,652,711,726,732,736,855,859,888,1056,1203,1241,1332,1444,1446,\n",
    "       1468,1515,1549,1557]"
   ]
  },
  {
   "cell_type": "code",
   "execution_count": null,
   "id": "8aab8325-f33a-45a8-adcc-0b17d37f1bc6",
   "metadata": {},
   "outputs": [],
   "source": [
    "# Using this....\n",
    "i = 0\n",
    "for num in idxs: #range(len(ref_person_paths)):\n",
    "    visualize(i, idx_flag=False, reference_person=read_image(ref_person_paths[num]), target_clothes=read_image(target_clothes_paths[num]),\n",
    "              #eccv_viton=read_image(algo1_tryon_files[num]),\n",
    "              #fifa_wo_fab=read_image(algo2_tryon_files[num]),\n",
    "              #fifa=read_image(algo3_tryon_files[num]),\n",
    "              #fifa_wo_fab_pretrain=read_image(algo4_tryon_files[num]),\n",
    "              prediction=read_image(algo5_tryon_files[num])\n",
    "             )\n",
    "    i+=1"
   ]
  },
  {
   "cell_type": "code",
   "execution_count": null,
   "id": "1faaeac9-f61b-4419-93de-b87240f9f875",
   "metadata": {},
   "outputs": [],
   "source": []
  },
  {
   "cell_type": "code",
   "execution_count": null,
   "id": "8fb6c398-d0c6-45ac-89f5-83e5ad58ee94",
   "metadata": {},
   "outputs": [],
   "source": []
  }
 ],
 "metadata": {
  "kernelspec": {
   "display_name": "Python 3",
   "language": "python",
   "name": "python3"
  },
  "language_info": {
   "codemirror_mode": {
    "name": "ipython",
    "version": 3
   },
   "file_extension": ".py",
   "mimetype": "text/x-python",
   "name": "python",
   "nbconvert_exporter": "python",
   "pygments_lexer": "ipython3",
   "version": "3.8.12"
  }
 },
 "nbformat": 4,
 "nbformat_minor": 5
}
