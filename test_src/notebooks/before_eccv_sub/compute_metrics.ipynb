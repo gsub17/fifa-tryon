{
 "cells": [
  {
   "cell_type": "code",
   "execution_count": 1,
   "id": "9b92f47c-5af1-453a-b147-aa1138ed1649",
   "metadata": {},
   "outputs": [],
   "source": [
    "%load_ext autoreload\n",
    "%autoreload 2"
   ]
  },
  {
   "cell_type": "code",
   "execution_count": 2,
   "id": "f4fe0ffa-ae16-4957-9566-a0b3fca4b0fa",
   "metadata": {},
   "outputs": [],
   "source": [
    "import os,sys,inspect\n",
    "sys.path.insert(0,\"..\")"
   ]
  },
  {
   "cell_type": "code",
   "execution_count": 3,
   "id": "cc860f97-eb98-4f70-b3ef-ccb7829c60a4",
   "metadata": {},
   "outputs": [],
   "source": [
    "from math import log10, sqrt\n",
    "import cv2\n",
    "import numpy as np\n",
    "\n",
    "import pytorch_ssim\n",
    "import torch\n",
    "from torch.autograd import Variable"
   ]
  },
  {
   "cell_type": "code",
   "execution_count": 4,
   "id": "ffd59f04-9575-4846-82db-d2a8e679a3ef",
   "metadata": {},
   "outputs": [],
   "source": [
    "def make_dataset(dir):\n",
    "    images = []\n",
    "    assert os.path.isdir(dir), '%s is not a valid directory' % dir\n",
    "\n",
    "    f = dir.split('/')[-1].split('_')[-1]\n",
    "    #print (dir, f)\n",
    "    dirs= os.listdir(dir)\n",
    "    for img in dirs:\n",
    "\n",
    "        path = os.path.join(dir, img)\n",
    "        #print(path)\n",
    "        images.append(path)\n",
    "    return images\n",
    "\n",
    "def read_image(path):\n",
    "    image = cv2.imread(path)\n",
    "    image = cv2.cvtColor(image, cv2.COLOR_BGR2RGB)\n",
    "    image = cv2.resize(image, (192, 256))\n",
    "    return image\n",
    "\n",
    "\n",
    "def PSNR(original, compressed):\n",
    "    mse = np.mean((original - compressed) ** 2)\n",
    "    if(mse == 0):  # MSE is zero means no noise is present in the signal .\n",
    "                  # Therefore PSNR have no importance.\n",
    "        return 100\n",
    "    max_pixel = 255.0\n",
    "    psnr = 10 * log10(max_pixel / sqrt(mse))\n",
    "    return psnr"
   ]
  },
  {
   "cell_type": "code",
   "execution_count": 5,
   "id": "34dfebb6-d0f4-4443-ab95-7c9b5214939d",
   "metadata": {},
   "outputs": [],
   "source": [
    "exp_name = \"rob_test\""
   ]
  },
  {
   "cell_type": "code",
   "execution_count": 6,
   "id": "7ebd80c2-2697-4cd0-920d-be37383150e5",
   "metadata": {},
   "outputs": [],
   "source": [
    "gt = '../outputs/{}/person'.format(exp_name)\n",
    "a1 = '../outputs/{}/acgpn'.format(exp_name)\n",
    "a2 = '../outputs/{}/fifa'.format(exp_name)"
   ]
  },
  {
   "cell_type": "code",
   "execution_count": 7,
   "id": "8d3271f5-ed96-48f2-930f-57751c3d0519",
   "metadata": {},
   "outputs": [
    {
     "data": {
      "text/plain": [
       "'../outputs/rob_test/fifa'"
      ]
     },
     "execution_count": 7,
     "metadata": {},
     "output_type": "execute_result"
    }
   ],
   "source": [
    "a2"
   ]
  },
  {
   "cell_type": "code",
   "execution_count": 9,
   "id": "a56e6fd4-823e-4fa8-ad19-243113136ada",
   "metadata": {},
   "outputs": [
    {
     "name": "stdout",
     "output_type": "stream",
     "text": [
      "(256, 192, 3) (256, 192, 3)\n",
      "(256, 192, 3) (256, 192, 3)\n",
      "(256, 192, 3) (256, 192, 3)\n",
      "(256, 192, 3) (256, 192, 3)\n",
      "(256, 192, 3) (256, 192, 3)\n",
      "(256, 192, 3) (256, 192, 3)\n",
      "(256, 192, 3) (256, 192, 3)\n",
      "(256, 192, 3) (256, 192, 3)\n",
      "(256, 192, 3) (256, 192, 3)\n",
      "(256, 192, 3) (256, 192, 3)\n",
      "SSIM score: 0.9276\n",
      "PSNR score: 32.3156\n"
     ]
    }
   ],
   "source": [
    "ssim_scores = []\n",
    "psnr_scores = []\n",
    "\n",
    "\n",
    "gtp = sorted(make_dataset(gt))\n",
    "a1p = sorted(make_dataset(a1))\n",
    "\n",
    "for x,y in zip(gtp, a1p):\n",
    "    img1 = read_image(x)\n",
    "    img2 = read_image(y)\n",
    "    \n",
    "    print(img1.shape, img2.shape)\n",
    "    \n",
    "    img1 = np.expand_dims(img1 / 255.0, axis=0)\n",
    "    img2 = np.expand_dims(img2 / 255.0, axis=0)\n",
    "    \n",
    "    # Compute PSNR\n",
    "    psnr = PSNR(img1, img2)\n",
    "    psnr_scores.append(psnr)\n",
    "    \n",
    "    #if torch.cuda.is_available():\n",
    "    img1 = torch.from_numpy(img1)\n",
    "    img2 = torch.from_numpy(img2)\n",
    "    score = pytorch_ssim.ssim(img1, img2)\n",
    "    score = score.item()\n",
    "    ssim_scores.append(score)\n",
    "        \n",
    "        \n",
    "sscore = np.array(ssim_scores).mean()\n",
    "print(\"SSIM score: {:.4f}\".format(sscore))\n",
    "\n",
    "pscore = np.array(psnr_scores).mean()\n",
    "print(\"PSNR score: {:.4f}\".format(pscore))"
   ]
  },
  {
   "cell_type": "code",
   "execution_count": 10,
   "id": "f8e4e029-7d41-46f1-8b93-f7b68a94e44c",
   "metadata": {},
   "outputs": [],
   "source": [
    "# 0.9276 \n",
    "\n",
    "# 0.9529"
   ]
  },
  {
   "cell_type": "code",
   "execution_count": null,
   "id": "43bd5f9c-c296-40c4-a698-fb95c1a2a04c",
   "metadata": {},
   "outputs": [],
   "source": []
  },
  {
   "cell_type": "code",
   "execution_count": 11,
   "id": "3c351ea7-56b9-4228-93a2-136aa05506e3",
   "metadata": {},
   "outputs": [
    {
     "name": "stdout",
     "output_type": "stream",
     "text": [
      "Collecting pytorch_fid\n",
      "  Downloading pytorch-fid-0.2.1.tar.gz (14 kB)\n",
      "Requirement already satisfied: numpy in /home/hasib/anaconda3/envs/fifa/lib/python3.8/site-packages (from pytorch_fid) (1.21.2)\n",
      "Requirement already satisfied: pillow in /home/hasib/anaconda3/envs/fifa/lib/python3.8/site-packages (from pytorch_fid) (8.4.0)\n",
      "Requirement already satisfied: scipy in /home/hasib/anaconda3/envs/fifa/lib/python3.8/site-packages (from pytorch_fid) (1.7.3)\n",
      "Requirement already satisfied: torch>=1.0.1 in /home/hasib/anaconda3/envs/fifa/lib/python3.8/site-packages (from pytorch_fid) (1.8.2)\n",
      "Requirement already satisfied: torchvision>=0.2.2 in /home/hasib/anaconda3/envs/fifa/lib/python3.8/site-packages (from pytorch_fid) (0.9.2)\n",
      "Requirement already satisfied: typing_extensions in /home/hasib/anaconda3/envs/fifa/lib/python3.8/site-packages (from torch>=1.0.1->pytorch_fid) (3.10.0.2)\n",
      "Building wheels for collected packages: pytorch-fid\n",
      "  Building wheel for pytorch-fid (setup.py) ... \u001b[?25ldone\n",
      "\u001b[?25h  Created wheel for pytorch-fid: filename=pytorch_fid-0.2.1-py3-none-any.whl size=14835 sha256=0df4ed63b30572fe289dc4ec61abaeff89d32a74553f802ca295c2e0fc4c325d\n",
      "  Stored in directory: /home/hasib/.cache/pip/wheels/df/c8/a0/cce2ed7671ae52be132ae836e429bba6148544f83b7962b4bc\n",
      "Successfully built pytorch-fid\n",
      "Installing collected packages: pytorch-fid\n",
      "Successfully installed pytorch-fid-0.2.1\n"
     ]
    }
   ],
   "source": [
    "!pip install pytorch_fid"
   ]
  },
  {
   "cell_type": "code",
   "execution_count": 15,
   "id": "0ac9cbcf-13d6-4c0a-a1b6-53a419cb1e5b",
   "metadata": {},
   "outputs": [
    {
     "name": "stdout",
     "output_type": "stream",
     "text": [
      "Warning: batch size is bigger than the data size. Setting batch size to data size\n",
      "100%|█████████████████████████████████████████████| 1/1 [00:00<00:00,  1.79it/s]\n",
      "Warning: batch size is bigger than the data size. Setting batch size to data size\n",
      "100%|█████████████████████████████████████████████| 1/1 [00:00<00:00,  3.44it/s]\n",
      "FID:  147.62776817946724\n"
     ]
    }
   ],
   "source": [
    "!python -m pytorch_fid '../outputs/rob_test/person' '../outputs/rob_test/fifa'"
   ]
  },
  {
   "cell_type": "code",
   "execution_count": null,
   "id": "dbffd2bf-f647-45d9-aadf-a989c94e68e5",
   "metadata": {},
   "outputs": [],
   "source": [
    "# 152.43189\n",
    "# 147.62776"
   ]
  },
  {
   "cell_type": "code",
   "execution_count": null,
   "id": "5222b451-ad9b-4468-81c3-ccf0886dfff7",
   "metadata": {},
   "outputs": [],
   "source": []
  },
  {
   "cell_type": "markdown",
   "id": "fe0faf7a-dd67-4c71-a30b-9c5d468f8fd6",
   "metadata": {},
   "source": [
    "| Model  | Test all SSIM (higher) | Test easy SSIM (higher) | Test medium SSIM (higher)| Test hard SSIM (higher)| Test FID (lower) |\n",
    "| ------------- | ------------- | ------------- | ------------- | ------------- |------------- |\n",
    "| ACGPN 5000  | 0.8231 | 0.8311 |0.8214 |0.8044 |26.167 |\n",
    "| ResUnet 32filt, BN (resunet_g1, ngf=32) | **0.8273** | **0.8356** | **0.8254** | **0.8082** | **23.032** |\n",
    "| ACGPN 5000 N  | 0.8256 |- |- | - | 24.43| \n",
    "| ResUnet 32filt, BN (resunet_g1, ngf=32)N| 0.8288 | - | - | - | 24.647"
   ]
  },
  {
   "cell_type": "code",
   "execution_count": null,
   "id": "23c2f1df-7668-46cc-8e24-3f1515c0660a",
   "metadata": {},
   "outputs": [],
   "source": []
  }
 ],
 "metadata": {
  "kernelspec": {
   "display_name": "Python 3",
   "language": "python",
   "name": "python3"
  },
  "language_info": {
   "codemirror_mode": {
    "name": "ipython",
    "version": 3
   },
   "file_extension": ".py",
   "mimetype": "text/x-python",
   "name": "python",
   "nbconvert_exporter": "python",
   "pygments_lexer": "ipython3",
   "version": "3.8.12"
  }
 },
 "nbformat": 4,
 "nbformat_minor": 5
}
