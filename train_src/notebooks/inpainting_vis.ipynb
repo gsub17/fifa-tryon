{
 "cells": [
  {
   "cell_type": "markdown",
   "id": "235ebb11-f1bc-4dbb-be14-264aeea935a0",
   "metadata": {},
   "source": [
    "### Visualize inpainting results"
   ]
  },
  {
   "cell_type": "code",
   "execution_count": null,
   "id": "f95f58d9-6076-4963-ae33-b119013a08be",
   "metadata": {},
   "outputs": [],
   "source": [
    "%load_ext autoreload\n",
    "%autoreload 2"
   ]
  },
  {
   "cell_type": "code",
   "execution_count": null,
   "id": "4987076a-172e-44f2-a0a6-1f4653353c38",
   "metadata": {},
   "outputs": [],
   "source": [
    "import os,sys,inspect\n",
    "sys.path.insert(0,\"..\")\n",
    "\n",
    "import matplotlib.pyplot as plt\n",
    "from matplotlib import rc\n",
    "\n",
    "macos = True\n",
    "if macos == True:\n",
    "    rc('font',**{'family':'sans-serif','sans-serif':['Computer Modern Roman']})\n",
    "    rc('text', usetex=True)\n",
    "\n",
    "# Font Size\n",
    "import matplotlib\n",
    "font = {'family' : 'DejaVu Sans',\n",
    "        'weight' : 'bold',\n",
    "        'size'   : 30}\n",
    "\n",
    "import cv2\n",
    "import numpy as np\n",
    "import string"
   ]
  },
  {
   "cell_type": "code",
   "execution_count": null,
   "id": "c288e05c-fd06-4c89-9a98-cedd15ccb981",
   "metadata": {},
   "outputs": [],
   "source": [
    "def visualize(idx, **images):\n",
    "    \"\"\"Plot images in one row.\"\"\" \n",
    "    n = len(images)\n",
    "    fig = plt.figure(figsize=(18, 16))\n",
    "    for i, (name, image) in enumerate(images.items()):\n",
    "        plt.subplot(1, n, i + 1)\n",
    "        plt.xticks([])\n",
    "        plt.yticks([])\n",
    "        #if idx==0:\n",
    "        plt.title(' '.join(name.split('_')).lower(), fontsize=20)\n",
    "#         if i ==0:\n",
    "#             w,h = (1,25)\n",
    "#             fs = 1.0\n",
    "#             #color = (0,0,0)\n",
    "#             color = (255,255,255)\n",
    "#             font = cv2.FONT_HERSHEY_SIMPLEX #FONT_HERSHEY_DUPLEX  #press tab for different operations\n",
    "#             cv2.putText(image, str(idx), (w,h), font, fs, color, 1, cv2.LINE_AA)\n",
    "        plt.imshow(image, cmap='gray')\n",
    "        plt.axis(\"off\")\n",
    "        #plt.tight_layout()\n",
    "    plt.savefig(\"../outputs/masked-clothes/{}.png\".format(idx), facecolor=\"white\", bbox_inches = 'tight')\n",
    "    plt.show()\n",
    "    \n",
    "    \n",
    "def make_dataset(dir):\n",
    "    images = []\n",
    "    assert os.path.isdir(dir), '%s is not a valid directory' % dir\n",
    "\n",
    "    f = dir.split('/')[-1].split('_')[-1]\n",
    "    #print (dir, f)\n",
    "    dirs= os.listdir(dir)\n",
    "    for img in dirs:\n",
    "\n",
    "        path = os.path.join(dir, img)\n",
    "        #print(path)\n",
    "        images.append(path)\n",
    "    return images\n",
    "\n",
    "def read_image(path):\n",
    "    image = cv2.imread(path, -1)\n",
    "    image = cv2.cvtColor(image, cv2.COLOR_BGR2RGB)\n",
    "    return image"
   ]
  },
  {
   "cell_type": "code",
   "execution_count": null,
   "id": "ec1c184e-8a2d-42e9-a20b-506fefec076f",
   "metadata": {},
   "outputs": [],
   "source": [
    "ins = \"../sample/inputs/\"\n",
    "masked_ins = \"../sample/masked_inputs/\"\n",
    "preds = \"../sample/preds/\""
   ]
  },
  {
   "cell_type": "code",
   "execution_count": null,
   "id": "e3c3b376-2da2-40a9-913e-f62d07f96a5e",
   "metadata": {},
   "outputs": [],
   "source": [
    "ins = sorted(make_dataset(ins))\n",
    "masked_ins = sorted(make_dataset(masked_ins))\n",
    "preds = sorted(make_dataset(preds))"
   ]
  },
  {
   "cell_type": "code",
   "execution_count": null,
   "id": "bc6d51d0-4b65-42cb-91b3-54dc4f37d77c",
   "metadata": {},
   "outputs": [],
   "source": [
    "ins[0]"
   ]
  },
  {
   "cell_type": "code",
   "execution_count": null,
   "id": "a477b942-554f-41ac-8d9d-fe66c1d984c7",
   "metadata": {},
   "outputs": [],
   "source": [
    "x = read_image(masked_ins[0])"
   ]
  },
  {
   "cell_type": "code",
   "execution_count": null,
   "id": "4bf4326e-2200-4f06-a7d9-f0d0080b839d",
   "metadata": {},
   "outputs": [],
   "source": [
    "x.shape"
   ]
  },
  {
   "cell_type": "code",
   "execution_count": null,
   "id": "20c6f1f7-e936-4e0d-8db8-f82bbc6a81ad",
   "metadata": {},
   "outputs": [],
   "source": []
  },
  {
   "cell_type": "code",
   "execution_count": null,
   "id": "8865ba2d-1be0-404c-ba03-8a96d03e206d",
   "metadata": {},
   "outputs": [],
   "source": []
  },
  {
   "cell_type": "code",
   "execution_count": null,
   "id": "f0db4acf-ca72-425a-9055-a94e829664b3",
   "metadata": {},
   "outputs": [],
   "source": [
    "#nums = [0, 7, 10, 11, 15, 32, 205, 214, 297]\n",
    "nums = [5, 18, 191, 336]\n",
    "nums = [i+6656-500 for i in nums]\n",
    "nums"
   ]
  },
  {
   "cell_type": "code",
   "execution_count": null,
   "id": "4cac7219-e05e-4835-bf61-e0b6135bcd53",
   "metadata": {},
   "outputs": [],
   "source": [
    "rows = int(len(nums) / 2)\n",
    "cols = 6\n",
    "fig, axarr = plt.subplots(rows, cols, figsize=(30, 13), constrained_layout=True)\n",
    "\n",
    "alphabet_string = string.ascii_lowercase\n",
    "alphabet_list = list(alphabet_string)\n",
    "\n",
    "v = 0\n",
    "for r in range(rows):\n",
    "    rp1=read_image(masked_ins[nums[v+r]])\n",
    "    w,h = (1,25)\n",
    "    fs = 1.0\n",
    "    color = (0,0,0)\n",
    "    font = cv2.FONT_HERSHEY_SIMPLEX #FONT_HERSHEY_DUPLEX  #press tab for different operations\n",
    "    cv2.putText(rp1, str(alphabet_list[v+r]), (w,h), font, fs, color, 1, cv2.LINE_AA)\n",
    "    tc1=read_image(preds[nums[v+r]])\n",
    "    a1_seg=read_image(ins[nums[v+r]])\n",
    "    #a2_seg = read_image(a2_seg_files[nums[v+r]])\n",
    "    \n",
    "    rp2=read_image(masked_ins[nums[v+r+1]])\n",
    "    cv2.putText(rp2, str(alphabet_list[v+r+1]), (w,h), font, fs, color, 1, cv2.LINE_AA)\n",
    "    tc2=read_image(preds[nums[v+r+1]])\n",
    "    a21_seg=read_image(ins[nums[v+r+1]])\n",
    "    #a22_seg = read_image(a2_seg_files[nums[v+r+1]])\n",
    "    \n",
    "#     rp3=read_image(masked_ins[nums[v+r+2]])\n",
    "#     cv2.putText(rp3, str(alphabet_list[v+r+2]), (w,h), font, fs, color, 1, cv2.LINE_AA)\n",
    "#     tc3=read_image(preds[nums[v+r+2]])\n",
    "#     a23_seg=read_image(ins[nums[v+r+2]])\n",
    "#     #a223_seg = read_image(a2_seg_files[nums[v+r+2]])\n",
    "    \n",
    "    v+=1\n",
    "    \n",
    "    images = [rp1, tc1, a1_seg, rp2, tc2, a21_seg] #rp3, tc3, a23_seg]\n",
    "    \n",
    "    \n",
    "    captions = [\"Input\", \"Reconstructed\", \"Ground Truth\",\n",
    "                \"Input\", \"Reconstructed\", \"Ground Truth\",\n",
    "                \"Input\", \"Reconstructed\", \"Ground Truth\"]\n",
    "    \n",
    "    for c in range(cols):\n",
    "        axarr[r, c].imshow(images[c], cmap='gray')\n",
    "        axarr[r, c].axis(\"off\")\n",
    "        axarr[r, c].set_aspect('equal')\n",
    "        if r==0:\n",
    "            axarr[r, c].set_title(captions[c], fontsize=40)\n",
    "\n",
    "plt.savefig(\"../outputs/vis_mask.pdf\", facecolor=\"white\", bbox_inches = 'tight', dpi=300)"
   ]
  },
  {
   "cell_type": "code",
   "execution_count": null,
   "id": "9047e757-30ec-40f4-9370-a1ce4f7a436c",
   "metadata": {},
   "outputs": [],
   "source": []
  },
  {
   "cell_type": "code",
   "execution_count": null,
   "id": "e8fb9140-bbfe-40f3-8a13-4f3c85140d63",
   "metadata": {},
   "outputs": [],
   "source": []
  },
  {
   "cell_type": "code",
   "execution_count": null,
   "id": "bd7cf0d3-6a68-4559-9b0a-26f671fa006c",
   "metadata": {},
   "outputs": [],
   "source": [
    "len(masked_ins)"
   ]
  },
  {
   "cell_type": "code",
   "execution_count": null,
   "id": "9717a894-6547-4af9-bbb9-559698036a29",
   "metadata": {},
   "outputs": [],
   "source": [
    "# slc = 500\n",
    "# idx = 0\n",
    "# for m, p, i in zip(masked_ins[-slc:], preds[-slc:], ins[-slc:]):\n",
    "    \n",
    "#     # visualize(i,\n",
    "#     #           unet=read_image(a1), \n",
    "#     #           resunet = read_image(a2))\n",
    "#     visualize(idx, \n",
    "#               input_image=read_image(m),\n",
    "#               prediction=read_image(p),\n",
    "#               ground_truth=read_image(i))\n",
    "#     idx+=1"
   ]
  },
  {
   "cell_type": "code",
   "execution_count": null,
   "id": "a18ed377-bd50-499c-8a98-5a4c77d005b2",
   "metadata": {},
   "outputs": [],
   "source": []
  },
  {
   "cell_type": "code",
   "execution_count": null,
   "id": "481f85de-0806-4bb7-a09a-3112be6cd39f",
   "metadata": {},
   "outputs": [],
   "source": []
  },
  {
   "cell_type": "code",
   "execution_count": null,
   "id": "1d75cf44-f2af-471c-b6ec-152d5643d476",
   "metadata": {},
   "outputs": [],
   "source": []
  },
  {
   "cell_type": "code",
   "execution_count": null,
   "id": "fdc55932-074b-490e-89e7-724afb320d92",
   "metadata": {},
   "outputs": [],
   "source": []
  },
  {
   "cell_type": "code",
   "execution_count": null,
   "id": "7da85177-16db-49c8-804f-94bb333e1758",
   "metadata": {},
   "outputs": [],
   "source": []
  },
  {
   "cell_type": "markdown",
   "id": "d8475fe7-7ca8-4ef1-8bd7-5e645ca1525c",
   "metadata": {},
   "source": [
    "### Extensive"
   ]
  },
  {
   "cell_type": "code",
   "execution_count": null,
   "id": "2ec3a1b7-ba8d-493d-bc3a-6329f1a0eb0c",
   "metadata": {},
   "outputs": [],
   "source": [
    "nums = [0, 7, 10, 11, 15, 32, 205, 214, 297]\n",
    "nums = [i+6656-500 for i in nums]"
   ]
  },
  {
   "cell_type": "code",
   "execution_count": null,
   "id": "59c8a0c6-5770-402d-9fe6-f49b865a1ce9",
   "metadata": {},
   "outputs": [],
   "source": [
    "rows = int(len(nums) / 3)\n",
    "cols = 9\n",
    "fig, axarr = plt.subplots(rows, cols, figsize=(30, 12), constrained_layout=True)\n",
    "\n",
    "alphabet_string = string.ascii_lowercase\n",
    "alphabet_list = list(alphabet_string)\n",
    "\n",
    "v = 0\n",
    "for r in range(rows):\n",
    "    rp1=read_image(masked_ins[nums[v+r]])\n",
    "    w,h = (1,25)\n",
    "    fs = 1.0\n",
    "    color = (0,0,0)\n",
    "    font = cv2.FONT_HERSHEY_SIMPLEX #FONT_HERSHEY_DUPLEX  #press tab for different operations\n",
    "    cv2.putText(rp1, str(alphabet_list[v+r]), (w,h), font, fs, color, 1, cv2.LINE_AA)\n",
    "    tc1=read_image(preds[nums[v+r]])\n",
    "    a1_seg=read_image(ins[nums[v+r]])\n",
    "    #a2_seg = read_image(a2_seg_files[nums[v+r]])\n",
    "    \n",
    "    rp2=read_image(masked_ins[nums[v+r+1]])\n",
    "    cv2.putText(rp2, str(alphabet_list[v+r+1]), (w,h), font, fs, color, 1, cv2.LINE_AA)\n",
    "    tc2=read_image(preds[nums[v+r+1]])\n",
    "    a21_seg=read_image(ins[nums[v+r+1]])\n",
    "    #a22_seg = read_image(a2_seg_files[nums[v+r+1]])\n",
    "    \n",
    "    rp3=read_image(masked_ins[nums[v+r+2]])\n",
    "    cv2.putText(rp3, str(alphabet_list[v+r+2]), (w,h), font, fs, color, 1, cv2.LINE_AA)\n",
    "    tc3=read_image(preds[nums[v+r+2]])\n",
    "    a23_seg=read_image(ins[nums[v+r+2]])\n",
    "    #a223_seg = read_image(a2_seg_files[nums[v+r+2]])\n",
    "    \n",
    "    v+=2\n",
    "    \n",
    "    images = [rp1, tc1, a1_seg, rp2, tc2, a21_seg, rp3, tc3, a23_seg]\n",
    "    \n",
    "    \n",
    "    captions = [\"Input\", \"Reconstructed\", \"Ground Truth\",\n",
    "                \"Input\", \"Reconstructed\", \"Ground Truth\",\n",
    "                \"Input\", \"Reconstructed\", \"Ground Truth\"]\n",
    "    \n",
    "    for c in range(cols):\n",
    "        axarr[r, c].imshow(images[c], cmap='gray')\n",
    "        axarr[r, c].axis(\"off\")\n",
    "        axarr[r, c].set_aspect('equal')\n",
    "        if r==0:\n",
    "            axarr[r, c].set_title(captions[c], fontsize=38)\n",
    "\n",
    "plt.savefig(\"../outputs/vis_mask_extensive.pdf\", facecolor=\"white\", bbox_inches = 'tight', dpi=300)"
   ]
  },
  {
   "cell_type": "code",
   "execution_count": null,
   "id": "8d61c34d-48f4-487b-aef2-8d188f999891",
   "metadata": {},
   "outputs": [],
   "source": []
  },
  {
   "cell_type": "code",
   "execution_count": null,
   "id": "482ae510-75c1-4ff7-8dbd-8cf0a92f5508",
   "metadata": {},
   "outputs": [],
   "source": []
  },
  {
   "cell_type": "code",
   "execution_count": null,
   "id": "640aa060-1af6-464d-ac52-b65b23315b96",
   "metadata": {},
   "outputs": [],
   "source": []
  },
  {
   "cell_type": "code",
   "execution_count": null,
   "id": "6c839951-b1e3-4790-9098-ce7351f1cd7e",
   "metadata": {},
   "outputs": [],
   "source": []
  },
  {
   "cell_type": "code",
   "execution_count": null,
   "id": "b3d3c94e-9e14-4213-a744-f9b74ecef636",
   "metadata": {},
   "outputs": [],
   "source": []
  },
  {
   "cell_type": "code",
   "execution_count": null,
   "id": "313fd6df-e1a8-4168-ba65-a0b70ae102be",
   "metadata": {},
   "outputs": [],
   "source": []
  }
 ],
 "metadata": {
  "kernelspec": {
   "display_name": "Python 3 (ipykernel)",
   "language": "python",
   "name": "python3"
  },
  "language_info": {
   "codemirror_mode": {
    "name": "ipython",
    "version": 3
   },
   "file_extension": ".py",
   "mimetype": "text/x-python",
   "name": "python",
   "nbconvert_exporter": "python",
   "pygments_lexer": "ipython3",
   "version": "3.8.11"
  }
 },
 "nbformat": 4,
 "nbformat_minor": 5
}
